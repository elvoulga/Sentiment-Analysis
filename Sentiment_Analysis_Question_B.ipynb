{
 "cells": [
  {
   "cell_type": "markdown",
   "metadata": {},
   "source": [
    "# Sentiment Analysis - Question B - Voulgari Eleni - A.M. 17005\n",
    "\n",
    "## Apply an existing application for sentiment analysis on Tweeter data"
   ]
  },
  {
   "cell_type": "code",
   "execution_count": 2,
   "metadata": {},
   "outputs": [],
   "source": [
    "# Load libraries\n",
    "import os\n",
    "import re\n",
    "import pandas as pd\n",
    "from textblob import TextBlob\n",
    "from sklearn.metrics import accuracy_score\n",
    "from nltk.sentiment.vader import SentimentIntensityAnalyzer"
   ]
  },
  {
   "cell_type": "code",
   "execution_count": 4,
   "metadata": {},
   "outputs": [
    {
     "name": "stdout",
     "output_type": "stream",
     "text": [
      "20342\n"
     ]
    }
   ],
   "source": [
    "# Load test set to evaluate the application\n",
    "cols = ['id','sentiment','text']\n",
    "test2016 = pd.read_csv(\"./sets/twitter-2016test-A.tsv\", sep='\\t', header=None, names=cols)\n",
    "print len(test2016)"
   ]
  },
  {
   "cell_type": "code",
   "execution_count": 4,
   "metadata": {},
   "outputs": [
    {
     "name": "stdout",
     "output_type": "stream",
     "text": [
      "15437\n"
     ]
    }
   ],
   "source": [
    "# Remove the instances where the tweet text is not available and the column 'id' which is not needed for the purpose \n",
    "# of sentiment analysis.\n",
    "test2016 = test2016[test2016.text != 'Not Available']\n",
    "test2016 = test2016.drop(['id'], axis=1)\n",
    "print len(test2016)"
   ]
  },
  {
   "cell_type": "code",
   "execution_count": 5,
   "metadata": {},
   "outputs": [
    {
     "name": "stdout",
     "output_type": "stream",
     "text": [
      "neutral     7727\n",
      "positive    5439\n",
      "negative    2271\n",
      "Name: sentiment, dtype: int64\n"
     ]
    }
   ],
   "source": [
    "# Check the number of instances that have each sentiment label in the test set.\n",
    "sentiment_counts = test2016.sentiment.value_counts()\n",
    "print(sentiment_counts)"
   ]
  },
  {
   "cell_type": "code",
   "execution_count": 6,
   "metadata": {
    "collapsed": true
   },
   "outputs": [],
   "source": [
    "# Transform the sentiment (positive, negative, neutral) in numerical form to be able to compare the results easily.\n",
    "def sentiment2target(sentiment):\n",
    "    return {\n",
    "        'negative': 0,\n",
    "        'neutral': 1,\n",
    "        'positive' : 2\n",
    "    }[sentiment]\n",
    "test_targets = test2016.sentiment.apply(sentiment2target)"
   ]
  },
  {
   "cell_type": "code",
   "execution_count": 7,
   "metadata": {},
   "outputs": [
    {
     "name": "stdout",
     "output_type": "stream",
     "text": [
      "0.598885793872\n"
     ]
    }
   ],
   "source": [
    "# First, we try Vader Sentiment Analysis from the nltk.sentiment.vader package.\n",
    "vader = SentimentIntensityAnalyzer()\n",
    "\n",
    "def vader_polarity(text):\n",
    "    \"\"\" Transform the output to a result with the three sentiments\"\"\"\n",
    "    score = vader.polarity_scores(text)\n",
    "    if score['compound'] >= 0.5:\n",
    "        return 2\n",
    "    if -0.5 < score['compound'] < 0.5:\n",
    "        return 1\n",
    "    if score['compound'] <= -0.5:\n",
    "        return 0\n",
    "\n",
    "pred_y = [vader_polarity(text) for text in test2016.text]\n",
    "print accuracy_score(test_targets, pred_y)"
   ]
  },
  {
   "cell_type": "code",
   "execution_count": 8,
   "metadata": {},
   "outputs": [
    {
     "name": "stdout",
     "output_type": "stream",
     "text": [
      "0.545701885081\n"
     ]
    }
   ],
   "source": [
    "# Then, we try TextBlob Sentiment Analysis from the textblob package after a basic cleaning of the text.\n",
    "def clean_tweet(tweet):\n",
    "        '''\n",
    "        Utility function to clean tweet text by removing links, special characters\n",
    "        using simple regex statements.\n",
    "        '''\n",
    "        return ' '.join(re.sub(\"(@[A-Za-z0-9]+)|([^0-9A-Za-z \\t])(\\w+:\\/\\/\\S+)\", \" \", tweet).split())\n",
    "\n",
    "\n",
    "def blob_polarity(text):\n",
    "    \"\"\" Transform the output to a result with the three sentiments\"\"\"\n",
    "    score = TextBlob(clean_tweet(text)).sentiment.polarity\n",
    "    if score >= 0.5:\n",
    "        return 2\n",
    "    if -0.5 < score < 0.5:\n",
    "        return 1\n",
    "    if score <= -0.5:\n",
    "        return 0\n",
    "\n",
    "pred_y = [blob_polarity(text) for text in test2016.text]\n",
    "print accuracy_score(test_targets, pred_y)"
   ]
  },
  {
   "cell_type": "markdown",
   "metadata": {
    "collapsed": true
   },
   "source": [
    "As we can observe Vader sentiment analysis performs better than TextBlob sentiment analysis. \n",
    "\n",
    "Now, if we compare Vader's performance with the performance of the LinearSVC classifier obtained in question A, we observe that it is almost the same.\n",
    "\n",
    "High performance in text sentiment analysis is a really hard task to achieve. This is due to the peculiarity of text as data and especially on Tweets' text, as it consists of small sentences, sometimes with ambiguous meaning or its sentiment is shown with punctuation or emoticon and such."
   ]
  },
  {
   "cell_type": "code",
   "execution_count": null,
   "metadata": {
    "collapsed": true
   },
   "outputs": [],
   "source": []
  }
 ],
 "metadata": {
  "kernelspec": {
   "display_name": "Python 2",
   "language": "python",
   "name": "python2"
  },
  "language_info": {
   "codemirror_mode": {
    "name": "ipython",
    "version": 2
   },
   "file_extension": ".py",
   "mimetype": "text/x-python",
   "name": "python",
   "nbconvert_exporter": "python",
   "pygments_lexer": "ipython2",
   "version": "2.7.13"
  }
 },
 "nbformat": 4,
 "nbformat_minor": 2
}
